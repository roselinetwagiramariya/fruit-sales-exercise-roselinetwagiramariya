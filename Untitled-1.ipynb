{
 "cells": [
  {
   "cell_type": "code",
   "execution_count": 11,
   "metadata": {},
   "outputs": [
    {
     "name": "stdout",
     "output_type": "stream",
     "text": [
      "            Roses  Lillies  Sunflowers\n",
      "2022 Sales    359      567         218\n",
      "2023 Sales    414      164         346\n"
     ]
    }
   ],
   "source": [
    "import pandas as pd  \n",
    "\n",
    "fruitss_sales = pd.DataFrame({\n",
    "    'Roses': [359, 414], \n",
    "    'Lillies': [567, 164],   \n",
    "    'Sunflowers': [218, 346]  \n",
    "})\n",
    "\n",
    "\n",
    "fruitss_sales.index = ['2022 Sales', '2023 Sales']\n",
    "\n",
    "fruitss_sales.to_csv('fruity_sales.csv')\n",
    "\n",
    "\n",
    "print(fruitss_sales)\n"
   ]
  },
  {
   "cell_type": "code",
   "execution_count": null,
   "metadata": {},
   "outputs": [],
   "source": []
  },
  {
   "cell_type": "markdown",
   "metadata": {},
   "source": []
  },
  {
   "cell_type": "markdown",
   "metadata": {},
   "source": []
  }
 ],
 "metadata": {
  "kernelspec": {
   "display_name": "Python 3 (ipykernel)",
   "language": "python",
   "name": "python3"
  },
  "language_info": {
   "codemirror_mode": {
    "name": "ipython",
    "version": 3
   },
   "file_extension": ".py",
   "mimetype": "text/x-python",
   "name": "python",
   "nbconvert_exporter": "python",
   "pygments_lexer": "ipython3",
   "version": "3.11.7"
  }
 },
 "nbformat": 4,
 "nbformat_minor": 2
}
