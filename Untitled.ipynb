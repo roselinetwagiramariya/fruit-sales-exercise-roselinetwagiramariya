{
 "cells": [
  {
   "cell_type": "code",
   "execution_count": 10,
   "id": "a50670d2",
   "metadata": {},
   "outputs": [
    {
     "data": {
      "text/html": [
       "<div>\n",
       "<style scoped>\n",
       "    .dataframe tbody tr th:only-of-type {\n",
       "        vertical-align: middle;\n",
       "    }\n",
       "\n",
       "    .dataframe tbody tr th {\n",
       "        vertical-align: top;\n",
       "    }\n",
       "\n",
       "    .dataframe thead th {\n",
       "        text-align: right;\n",
       "    }\n",
       "</style>\n",
       "<table border=\"1\" class=\"dataframe\">\n",
       "  <thead>\n",
       "    <tr style=\"text-align: right;\">\n",
       "      <th></th>\n",
       "      <th>Apples</th>\n",
       "      <th>Bananas</th>\n",
       "    </tr>\n",
       "  </thead>\n",
       "  <tbody>\n",
       "    <tr>\n",
       "      <th>0</th>\n",
       "      <td>35</td>\n",
       "      <td>21</td>\n",
       "    </tr>\n",
       "    <tr>\n",
       "      <th>1</th>\n",
       "      <td>41</td>\n",
       "      <td>34</td>\n",
       "    </tr>\n",
       "  </tbody>\n",
       "</table>\n",
       "</div>"
      ],
      "text/plain": [
       "   Apples  Bananas\n",
       "0      35       21\n",
       "1      41       34"
      ]
     },
     "execution_count": 10,
     "metadata": {},
     "output_type": "execute_result"
    }
   ],
   "source": [
    "import pandas as pd\n",
    "pd.DataFrame({'Apples': [35, 41], 'Bananas': [21, 34]})\n"
   ]
  },
  {
   "cell_type": "code",
   "execution_count": 23,
   "id": "c4689bbf",
   "metadata": {},
   "outputs": [],
   "source": [
    "import pandas as pd\n",
    "pd.DataFrame({'Apples': [35, 41], 'Bananas': [21, 34]})\n"
   ]
  },
  {
   "cell_type": "code",
   "execution_count": null,
   "id": "fee2c181",
   "metadata": {},
   "outputs": [],
   "source": [
    "import pandas as pd  \n",
    "\n",
    "\n",
    "fruit_sales = pd.DataFrame({\n",
    "    'Apples': [35, 41],  \n",
    "    'Bananas': [21, 34]  \n",
    "})\n",
    "\n",
    "\n",
    "fruit_sales.index = ['2017 Sales', '2018 Sales']\n",
    "\n",
    "\n",
    "fruit_sales.to_csv('fruit_sales.csv')\n",
    "\n",
    "\n",
    "print(fruit_sales)\n"
   ]
  },
  {
   "cell_type": "markdown",
   "id": "0a7facac",
   "metadata": {},
   "source": []
  },
  {
   "cell_type": "code",
   "execution_count": null,
   "id": "7e22a856",
   "metadata": {},
   "outputs": [],
   "source": []
  }
 ],
 "metadata": {
  "kernelspec": {
   "display_name": "Python 3 (ipykernel)",
   "language": "python",
   "name": "python3"
  },
  "language_info": {
   "codemirror_mode": {
    "name": "ipython",
    "version": 3
   },
   "file_extension": ".py",
   "mimetype": "text/x-python",
   "name": "python",
   "nbconvert_exporter": "python",
   "pygments_lexer": "ipython3",
   "version": "3.11.7"
  }
 },
 "nbformat": 4,
 "nbformat_minor": 5
}
